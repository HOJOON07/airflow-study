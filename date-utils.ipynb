{
 "cells": [
  {
   "cell_type": "code",
   "execution_count": 14,
   "metadata": {},
   "outputs": [
    {
     "name": "stdout",
     "output_type": "stream",
     "text": [
      "현재시간:2025-03-02 00:00:00\n",
      "-----------------월 연산--------------------\n",
      "2025-01-02 00:00:00\n",
      "2025-01-02 00:00:00\n",
      "2025-02-02 00:00:00\n",
      "---------------일 연산------------------\n",
      "2025-03-01 00:00:00\n",
      "2025-03-01 00:00:00\n",
      "2025-02-28 00:00:00\n",
      "-----------------연산 여러개-------------------\n",
      "2025-01-30 00:00:00\n"
     ]
    }
   ],
   "source": [
    "from datetime import datetime\n",
    "from dateutil import relativedelta\n",
    "\n",
    "now = datetime(year=2025, month=3, day=2)\n",
    "\n",
    "print('현재시간:' + str(now))\n",
    "print('-----------------월 연산--------------------')\n",
    "print(now + relativedelta.relativedelta(month=1))\n",
    "print(now.replace(month=1))\n",
    "print(now + relativedelta.relativedelta(months=-1))\n",
    "\n",
    "print('---------------일 연산------------------')\n",
    "print(now+relativedelta.relativedelta(day=1))\n",
    "print(now.replace(day=1))\n",
    "print(now + relativedelta.relativedelta(days=-2))\n",
    "\n",
    "print(\"-----------------연산 여러개-------------------\")\n",
    "print(now + relativedelta.relativedelta(months=-1) + relativedelta.relativedelta(days=-3))\n",
    "\n"
   ]
  },
  {
   "cell_type": "code",
   "execution_count": null,
   "metadata": {},
   "outputs": [],
   "source": []
  }
 ],
 "metadata": {
  "kernelspec": {
   "display_name": ".venv",
   "language": "python",
   "name": "python3"
  },
  "language_info": {
   "codemirror_mode": {
    "name": "ipython",
    "version": 3
   },
   "file_extension": ".py",
   "mimetype": "text/x-python",
   "name": "python",
   "nbconvert_exporter": "python",
   "pygments_lexer": "ipython3",
   "version": "3.9.6"
  }
 },
 "nbformat": 4,
 "nbformat_minor": 2
}
